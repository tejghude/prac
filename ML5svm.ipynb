{
  "nbformat": 4,
  "nbformat_minor": 0,
  "metadata": {
    "colab": {
      "provenance": [],
      "authorship_tag": "ABX9TyMMGaWXQ25/zrAtIGBElQD/",
      "include_colab_link": true
    },
    "kernelspec": {
      "name": "python3",
      "display_name": "Python 3"
    },
    "language_info": {
      "name": "python"
    }
  },
  "cells": [
    {
      "cell_type": "markdown",
      "metadata": {
        "id": "view-in-github",
        "colab_type": "text"
      },
      "source": [
        "<a href=\"https://colab.research.google.com/github/teju1001/prac/blob/main/ML5svm.ipynb\" target=\"_parent\"><img src=\"https://colab.research.google.com/assets/colab-badge.svg\" alt=\"Open In Colab\"/></a>"
      ]
    },
    {
      "cell_type": "code",
      "source": [
        "from google.colab import drive\n",
        "drive.mount('/content/drive')"
      ],
      "metadata": {
        "id": "uorPy5tK_FLB"
      },
      "execution_count": null,
      "outputs": []
    },
    {
      "cell_type": "code",
      "execution_count": null,
      "metadata": {
        "id": "M3M2jmNR9-nb"
      },
      "outputs": [],
      "source": [
        "import pandas as pd\n",
        "from sklearn.model_selection import train_test_split\n",
        "from sklearn.svm import SVC\n",
        "from sklearn import svm, datasets"
      ]
    },
    {
      "cell_type": "code",
      "source": [
        "df = pd.read_csv(\"/content/drive/MyDrive/temp/diabetes.csv\")\n",
        "df.head()"
      ],
      "metadata": {
        "id": "Jpxvk9tY_Ppn"
      },
      "execution_count": null,
      "outputs": []
    },
    {
      "cell_type": "code",
      "source": [
        "X = df.drop(\"Outcome\",axis=\"columns\")\n",
        "y = df.Outcome\n",
        "from sklearn.preprocessing import StandardScaler\n",
        "scaler = StandardScaler()\n",
        "X_scaled = scaler.fit_transform(X)\n",
        "X_train, X_test, y_train, y_test = train_test_split(X, y, test_size= 0.2,random_state = 0)"
      ],
      "metadata": {
        "id": "zqnaWrvi_Xw_"
      },
      "execution_count": null,
      "outputs": []
    },
    {
      "cell_type": "code",
      "source": [
        "print(\"shape of Training data X_train :\"+str(X_train.shape))\n",
        "print(\"shape of Test Data X_test :\"+str(X_test.shape))\n",
        "print(\"shape of Training Labels y_train :\"+str(y_train.shape))\n",
        "print(\"shape of Test Labels y_test :\"+str(y_test.shape))"
      ],
      "metadata": {
        "id": "1tZnic4J_htz"
      },
      "execution_count": null,
      "outputs": []
    },
    {
      "cell_type": "code",
      "source": [
        "model = SVC(kernel = 'linear', C = 1)\n",
        "model.fit(X_train, y_train)\n",
        "svm_pred = model.predict(X_test)\n",
        "accuracy = model.score(X_test, y_test)\n",
        "accuracy"
      ],
      "metadata": {
        "id": "RMtRvJtp_n3I"
      },
      "execution_count": null,
      "outputs": []
    },
    {
      "cell_type": "code",
      "source": [
        "for this_C in [1,3,5,10,40,60,80,100]:\n",
        "    clf = SVC(kernel='linear',C=this_C).fit(X_train,y_train)\n",
        "    scoretrain = clf.score(X_train,y_train)\n",
        "    scoretest  = clf.score(X_test,y_test)\n",
        "    print(\"Linear SVM value of C:{}, training score :{:2f} , Test Score: {:2f} \\n\".format(this_C,scoretrain,scoretest))"
      ],
      "metadata": {
        "id": "_fc3vc2y_6-4"
      },
      "execution_count": null,
      "outputs": []
    },
    {
      "cell_type": "code",
      "source": [
        "from sklearn.model_selection import cross_val_score,StratifiedKFold,LeaveOneOut\n",
        "clf1 = SVC(kernel='linear',C=20).fit(X_train,y_train)\n",
        "scores = cross_val_score(clf1,X_train,y_train,cv=5)\n",
        "strat_scores = cross_val_score(clf1,X_train,y_train,cv=StratifiedKFold(5,random_state=10,shuffle=True))\n",
        "\n",
        "print(\"The Cross Validation Score :\"+str(scores))\n",
        "print(\"The Average Cross Validation Score :\"+str(scores.mean()))\n",
        "print(\"The Stratified Cross Validation Score :\"+str(strat_scores))\n",
        "print(\"The Average Stratified Cross Validation Score :\"+str(strat_scores.mean()))"
      ],
      "metadata": {
        "id": "iyUKyiVXAKdf"
      },
      "execution_count": null,
      "outputs": []
    },
    {
      "cell_type": "code",
      "source": [
        "for this_C in [1,5,10]:\n",
        "    clf3 = SVC(kernel='rbf',C=this_C).fit(X_train,y_train)\n",
        "    clf3train = clf3.score(X_train,y_train)\n",
        "    clf3test  = clf3.score(X_test,y_test)\n",
        "    print(\"SVM for Non Linear \\n C:{} Training Score : {:2f} Test Score : {:2f}\\n\".format(this_C,clf3train,clf3test))"
      ],
      "metadata": {
        "id": "699f7YOaAFJz"
      },
      "execution_count": null,
      "outputs": []
    },
    {
      "cell_type": "code",
      "source": [
        "# SVM WITH RBF KERNAL, C AND GAMMA HYPERPARAMTER \n",
        "for this_gamma in [.1,.5,.10,.25,.50,1]:\n",
        "    for this_C in [1,5,7,10,15,25,50]:\n",
        "        clf3 = SVC(kernel='rbf',C=this_C,gamma=this_gamma).fit(X_train,y_train)\n",
        "        clf3train = clf3.score(X_train,y_train)\n",
        "        clf3test  = clf3.score(X_test,y_test)\n",
        "        print(\"SVM for Non Linear \\n Gamma: {} C:{} Training Score : {:2f} Test Score : {:2f}\\n\".format(this_gamma,this_C,clf3train,clf3test))"
      ],
      "metadata": {
        "id": "KG-d43PFBJZj"
      },
      "execution_count": null,
      "outputs": []
    },
    {
      "cell_type": "code",
      "source": [
        "from sklearn.metrics import accuracy_score\n",
        "# instantiate classifier with sigmoid kernel and C=100.0\n",
        "sigmoid_svc100=SVC(kernel='sigmoid', C=100.0) \n",
        "\n",
        "# fit classifier to training set\n",
        "sigmoid_svc100.fit(X_train,y_train)\n",
        "y_pred=sigmoid_svc100.predict(X_test)\n",
        "\n",
        "print('Model accuracy score with sigmoid kernel and C=100.0 : {0:0.4f}'. format(accuracy_score(y_test, y_pred)))"
      ],
      "metadata": {
        "id": "jnmSQBkJA89u"
      },
      "execution_count": null,
      "outputs": []
    },
    {
      "cell_type": "code",
      "source": [
        "from sklearn.metrics import confusion_matrix\n",
        "\n",
        "cm = confusion_matrix(y_test, y_pred)\n",
        "print('Confusion matrix\\n\\n', cm)\n",
        "print('\\nTrue Positives(TP) = ', cm[0,0])\n",
        "print('\\nTrue Negatives(TN) = ', cm[1,1])\n",
        "print('\\nFalse Positives(FP) = ', cm[0,1])\n",
        "print('\\nFalse Negatives(FN) = ', cm[1,0])"
      ],
      "metadata": {
        "id": "JVfXw5JUAzP3"
      },
      "execution_count": null,
      "outputs": []
    },
    {
      "cell_type": "code",
      "source": [
        "import matplotlib.pyplot as plt"
      ],
      "metadata": {
        "id": "0lI_m4wCDghx"
      },
      "execution_count": null,
      "outputs": []
    },
    {
      "cell_type": "code",
      "source": [
        "from sklearn.metrics import roc_curve\n",
        "fpr, tpr, thresholds = roc_curve(y_test, y_pred)\n",
        "plt.figure(figsize=(6,4))\n",
        "plt.plot(fpr, tpr, linewidth=2)\n",
        "plt.plot([0,1], [0,1], 'k--' )\n",
        "plt.rcParams['font.size'] = 12\n",
        "plt.title('ROC curve for Predicting a Pulsar Star classifier')\n",
        "plt.xlabel('False Positive Rate (1 - Specificity)')\n",
        "plt.ylabel('True Positive Rate (Sensitivity)')\n",
        "plt.show()\n",
        "# compute ROC AUC"
      ],
      "metadata": {
        "id": "j8X55VPeAtLu"
      },
      "execution_count": null,
      "outputs": []
    },
    {
      "cell_type": "code",
      "source": [
        "from sklearn.metrics import roc_auc_score\n",
        "ROC_AUC = roc_auc_score(y_test, y_pred)\n",
        "print('ROC AUC : {:.4f}'.format(ROC_AUC))"
      ],
      "metadata": {
        "id": "8E6WlwzAAloh"
      },
      "execution_count": null,
      "outputs": []
    }
  ]
}