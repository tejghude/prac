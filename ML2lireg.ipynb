{
  "nbformat": 4,
  "nbformat_minor": 0,
  "metadata": {
    "colab": {
      "provenance": [],
      "authorship_tag": "ABX9TyPFXXIsIoyrxFyiL+RNeJQ4",
      "include_colab_link": true
    },
    "kernelspec": {
      "name": "python3",
      "display_name": "Python 3"
    },
    "language_info": {
      "name": "python"
    }
  },
  "cells": [
    {
      "cell_type": "markdown",
      "metadata": {
        "id": "view-in-github",
        "colab_type": "text"
      },
      "source": [
        "<a href=\"https://colab.research.google.com/github/teju1001/prac/blob/main/liregML2.ipynb\" target=\"_parent\"><img src=\"https://colab.research.google.com/assets/colab-badge.svg\" alt=\"Open In Colab\"/></a>"
      ]
    },
    {
      "cell_type": "code",
      "execution_count": null,
      "metadata": {
        "id": "tB9THbGOxyjD"
      },
      "outputs": [],
      "source": [
        "import pandas as pd\n",
        "import numpy as np\n",
        "from matplotlib import pyplot as plt"
      ]
    },
    {
      "cell_type": "code",
      "source": [
        "np.random.seed(0)\n",
        "X = 2.5 * np.random.randn(100) + 1.5   # Array of 100 values with mean = 1.5, stddev = 2.5\n",
        "res = 0.5 * np.random.randn(100) \n",
        "y = 2 + 0.3 * X + res    "
      ],
      "metadata": {
        "id": "-rHOIzp_0Y_4"
      },
      "execution_count": null,
      "outputs": []
    },
    {
      "cell_type": "code",
      "source": [
        "# Create pandas dataframe to store our X and y values\n",
        "df = pd.DataFrame(\n",
        "    {'X': X,\n",
        "     'y': y}\n",
        ")\n",
        "\n",
        "# Show the first five rows of our dataframe\n",
        "df.head()"
      ],
      "metadata": {
        "id": "57E6b8TW0iI1"
      },
      "execution_count": null,
      "outputs": []
    },
    {
      "cell_type": "code",
      "source": [
        "xmean = np.mean(X)\n",
        "ymean = np.mean(y)\n",
        "df['xycov'] = (df['X'] - xmean) * (df['y'] - ymean)\n",
        "df['xvar'] = (df['X'] - xmean)**2\n",
        "\n",
        "# Calculate beta and alpha\n",
        "beta = df['xycov'].sum() / df['xvar'].sum()\n",
        "alpha = ymean - (beta * xmean)\n",
        "print(f'alpha = {alpha}')\n",
        "print(f'beta = {beta}')\n",
        "\n",
        "ypred = alpha + beta * X"
      ],
      "metadata": {
        "id": "Vd6lSbZE1GPv"
      },
      "execution_count": null,
      "outputs": []
    },
    {
      "cell_type": "code",
      "source": [
        "# Plot regression against actual data\n",
        "plt.figure(figsize=(12, 6))\n",
        "plt.plot(X, ypred)     # regression line\n",
        "plt.plot(X, y, 'ro')   # scatter plot showing actual data\n",
        "plt.title('Actual vs Predicted')\n",
        "plt.xlabel('X')\n",
        "plt.ylabel('y')\n",
        "\n",
        "plt.show()"
      ],
      "metadata": {
        "id": "-XzNfmGa1HG7"
      },
      "execution_count": null,
      "outputs": []
    }
  ]
}