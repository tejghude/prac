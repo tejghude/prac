{
  "cells": [
    {
      "cell_type": "markdown",
      "metadata": {
        "id": "view-in-github",
        "colab_type": "text"
      },
      "source": [
        "<a href=\"https://colab.research.google.com/github/teju1001/prac/blob/main/ML1.ipynb\" target=\"_parent\"><img src=\"https://colab.research.google.com/assets/colab-badge.svg\" alt=\"Open In Colab\"/></a>"
      ]
    },
    {
      "cell_type": "code",
      "execution_count": null,
      "id": "aac16a32",
      "metadata": {
        "id": "aac16a32"
      },
      "outputs": [],
      "source": [
        "%matplotlib inline"
      ]
    },
    {
      "cell_type": "code",
      "execution_count": null,
      "id": "6f0ba1b5",
      "metadata": {
        "id": "6f0ba1b5"
      },
      "outputs": [],
      "source": [
        "import numpy as np  \n",
        "import matplotlib.pyplot as plt  \n",
        "\n",
        "from sklearn.pipeline import Pipeline\n",
        "from sklearn.preprocessing import PolynomialFeatures \n",
        "from sklearn.linear_model import LinearRegression  \n",
        "from sklearn.model_selection import cross_val_score \n",
        "\n",
        "\n",
        "np.random.seed(0)  "
      ]
    },
    {
      "cell_type": "code",
      "execution_count": null,
      "id": "f142b7f9",
      "metadata": {
        "id": "f142b7f9"
      },
      "outputs": [],
      "source": [
        "def gen_target(X):\n",
        "    return np.cos(1.5 * np.pi * X)"
      ]
    },
    {
      "cell_type": "code",
      "execution_count": null,
      "id": "921e14a4",
      "metadata": {
        "id": "921e14a4"
      },
      "outputs": [],
      "source": [
        "n_records = 30         \n",
        "degrees = [1, 4, 30]   \n",
        "types = ['Underfitting', 'Perfect fitting', 'Overfitting']"
      ]
    },
    {
      "cell_type": "code",
      "execution_count": null,
      "id": "ff6a89fb",
      "metadata": {
        "id": "ff6a89fb"
      },
      "outputs": [],
      "source": [
        "X = np.sort(np.random.rand(n_records))   \n",
        "y = gen_target(X) + np.random.randn(n_records) * 0.1  "
      ]
    },
    {
      "cell_type": "code",
      "execution_count": null,
      "id": "4dd556dc",
      "metadata": {
        "id": "4dd556dc"
      },
      "outputs": [],
      "source": [
        "def plot_test(X, y, deg, title=\"\"):\n",
        "    X_test = np.linspace(0, 1, 100)\n",
        "    plt.plot(X_test, pipeline.predict(X_test[:, np.newaxis]), label=\"LR function (deg=\"+str(deg)+\")\")\n",
        "    plt.plot(X_test, gen_target(X_test), '--r', label=\"True function\")\n",
        "    plt.scatter(X, y, facecolor=\"b\", s=20, label=\"Training records\")\n",
        "    plt.xlabel(\"x\")\n",
        "    plt.ylabel(\"y\")\n",
        "    plt.xlim((0, 1))\n",
        "    plt.ylim((-2, 2))\n",
        "    plt.legend(loc=\"best\")\n",
        "    plt.title(title)"
      ]
    },
    {
      "cell_type": "code",
      "execution_count": null,
      "id": "c892b096",
      "metadata": {
        "id": "c892b096"
      },
      "outputs": [],
      "source": [
        "plt.figure(figsize=(14, 5)) \n",
        "for i, (deg, t) in enumerate(zip(degrees, types)):\n",
        "    ax = plt.subplot(1, len(degrees), i + 1)  \n",
        "\n",
        "    poly_feat = PolynomialFeatures(degree=degrees[i], include_bias=False)\n",
        "    lr = LinearRegression()\n",
        "    \n",
        "    # Make regression pipeline\n",
        "    pipeline = Pipeline([(\"poly_feat\", poly_feat),(\"lr\", lr),])\n",
        "    pipeline.fit(X[:, np.newaxis], y)\n",
        "\n",
        "    # Evaluate the models using 10-fold cross-validation and MSE\n",
        "    scores = cross_val_score(pipeline, X[:, np.newaxis], y, scoring=\"neg_mean_squared_error\", cv=10)\n",
        "    \n",
        "    # Plot results with original data\n",
        "    plot_test(X, y, deg)\n",
        "    print(\"Degree {}\\nMSE = {:.3e}(+/- {:.3e}) \\n\".format(deg, -scores.mean(), scores.std()))\n",
        "    \n",
        "plt.show()"
      ]
    }
  ],
  "metadata": {
    "kernelspec": {
      "display_name": "Python 3 (ipykernel)",
      "language": "python",
      "name": "python3"
    },
    "language_info": {
      "codemirror_mode": {
        "name": "ipython",
        "version": 3
      },
      "file_extension": ".py",
      "mimetype": "text/x-python",
      "name": "python",
      "nbconvert_exporter": "python",
      "pygments_lexer": "ipython3",
      "version": "3.9.12"
    },
    "colab": {
      "provenance": [],
      "include_colab_link": true
    }
  },
  "nbformat": 4,
  "nbformat_minor": 5
}